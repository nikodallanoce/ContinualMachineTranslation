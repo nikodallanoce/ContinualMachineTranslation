{
 "cells": [
  {
   "cell_type": "code",
   "execution_count": 1,
   "outputs": [],
   "source": [
    "from datasets import load_dataset\n",
    "from transformers import MT5Tokenizer, MT5ForConditionalGeneration, MT5Config\n",
    "import torch\n",
    "from transformers.utils import is_torch_fx_proxy\n",
    "\n",
    "from noise_functions.MT6NoiseFunction import MT6NoiseFunction"
   ],
   "metadata": {
    "collapsed": false
   }
  },
  {
   "cell_type": "code",
   "execution_count": 3,
   "outputs": [],
   "source": [
    "def model_size(model):\n",
    "    param_size = 0\n",
    "    for param in model.parameters():\n",
    "        param_size += param.nelement() * param.element_size()\n",
    "    buffer_size = 0\n",
    "    for buffer in model.buffers():\n",
    "        buffer_size += buffer.nelement() * buffer.element_size()\n",
    "\n",
    "    size_all_mb = (param_size + buffer_size) / 1024 ** 2\n",
    "    return size_all_mb"
   ],
   "metadata": {
    "collapsed": false
   }
  },
  {
   "cell_type": "code",
   "execution_count": 89,
   "outputs": [
    {
     "name": "stdout",
     "output_type": "stream",
     "text": [
      "542.5087890625\n"
     ]
    }
   ],
   "source": [
    "tok_en = MT5Tokenizer.from_pretrained(\"google/mt5-base\")\n",
    "\n",
    "cuda_dev = \"cpu\"\n",
    "\n",
    "model = MT5ForConditionalGeneration.from_pretrained(\n",
    "    \"/home/n.dallanoce/PyCharm/pretraining/weights/mt6/checkpoint-4800\")\n",
    "model = model.to(cuda_dev)\n",
    "model.train(False)\n",
    "print(model_size(model))"
   ],
   "metadata": {
    "collapsed": false
   }
  },
  {
   "cell_type": "code",
   "execution_count": 5,
   "outputs": [
    {
     "name": "stderr",
     "output_type": "stream",
     "text": [
      "Using custom data configuration en-lang=en\n",
      "Found cached dataset cc100 (/data/n.dallanoce/cc100/hugg_en/cc100/en-lang=en/0.0.0/8159941b93eb06d0288bb80be26ddfe8213c0c5e33286619c85ad8e1ee0eb91c)\n"
     ]
    }
   ],
   "source": [
    "dataset = load_dataset(\"cc100\", lang=\"en\",\n",
    "                       cache_dir=\"/data/n.dallanoce/cc100/hugg_en\",\n",
    "                       split=f\"train[{0}:{1024}]\",\n",
    "                       ignore_verifications=True)"
   ],
   "metadata": {
    "collapsed": false
   }
  },
  {
   "cell_type": "code",
   "execution_count": 95,
   "outputs": [
    {
     "name": "stdout",
     "output_type": "stream",
     "text": [
      "original: Read about what EEI’s International Programs has accomplished in the first-half of 2018\n",
      " \n",
      " \n",
      "source: <extra_id_0> what EEI’s International <extra_id_1> has accomplished <extra_id_2> of <extra_id_3>\n"
     ]
    }
   ],
   "source": [
    "index = 111\n",
    "sent = dataset[index]['text']\n",
    "src_sent, tgt_sent = MT6NoiseFunction().compute_for_mt5(sent, seed=index, noise_density=0.35)\n",
    "print(f\"original: {sent} \\n \\nsource: {src_sent}\")"
   ],
   "metadata": {
    "collapsed": false
   }
  },
  {
   "cell_type": "code",
   "execution_count": 96,
   "outputs": [
    {
     "name": "stdout",
     "output_type": "stream",
     "text": [
      "prediction: ['<pad> <extra_id_0> vitamins <extra_id_1> a <extra_id_2> life after <extra_id_3> bypass <extra_id_4> recommend:</s>'] \n",
      " \n",
      "label: Read about <extra_id_0> Programs <extra_id_1> in the first-half <extra_id_2> 2018\n",
      "\n"
     ]
    }
   ],
   "source": [
    "input_ids = tok_en(src_sent, return_tensors=\"pt\").input_ids\n",
    "sequence_ids = model.generate(input_ids, max_length=64)\n",
    "sequences = tok_en.batch_decode(sequence_ids, skip_special_tokens=False)\n",
    "print(f\"prediction: {sequences} \\n \\nlabel: {tgt_sent}\")"
   ],
   "metadata": {
    "collapsed": false
   }
  }
 ],
 "metadata": {
  "kernelspec": {
   "display_name": "Python 3",
   "language": "python",
   "name": "python3"
  },
  "language_info": {
   "codemirror_mode": {
    "name": "ipython",
    "version": 2
   },
   "file_extension": ".py",
   "mimetype": "text/x-python",
   "name": "python",
   "nbconvert_exporter": "python",
   "pygments_lexer": "ipython2",
   "version": "2.7.6"
  }
 },
 "nbformat": 4,
 "nbformat_minor": 0
}
