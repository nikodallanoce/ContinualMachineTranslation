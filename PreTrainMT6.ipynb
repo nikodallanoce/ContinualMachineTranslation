{
 "cells": [
  {
   "cell_type": "code",
   "execution_count": 1,
   "outputs": [
    {
     "name": "stderr",
     "output_type": "stream",
     "text": [
      "<frozen importlib._bootstrap>:219: RuntimeWarning: pyarrow._fs.FileInfo size changed, may indicate binary incompatibility. Expected 64 from C header, got 88 from PyObject\n",
      "<frozen importlib._bootstrap>:219: RuntimeWarning: pyarrow._fs.FileSelector size changed, may indicate binary incompatibility. Expected 48 from C header, got 72 from PyObject\n"
     ]
    }
   ],
   "source": [
    "from datasets import load_dataset\n",
    "from transformers import MT5Tokenizer, MT5ForConditionalGeneration, MT5Config\n",
    "import torch\n",
    "from transformers.utils import is_torch_fx_proxy\n",
    "\n",
    "from noise_functions.MT6NoiseFunction import MT6NoiseFunction"
   ],
   "metadata": {
    "collapsed": false,
    "ExecuteTime": {
     "end_time": "2023-07-06T14:23:12.152511600Z",
     "start_time": "2023-07-06T14:23:10.529641700Z"
    }
   }
  },
  {
   "cell_type": "code",
   "execution_count": 2,
   "outputs": [],
   "source": [
    "def model_size(model):\n",
    "    param_size = 0\n",
    "    for param in model.parameters():\n",
    "        param_size += param.nelement() * param.element_size()\n",
    "    buffer_size = 0\n",
    "    for buffer in model.buffers():\n",
    "        buffer_size += buffer.nelement() * buffer.element_size()\n",
    "\n",
    "    size_all_mb = (param_size + buffer_size) / 1024 ** 2\n",
    "    return size_all_mb, param_size + buffer_size"
   ],
   "metadata": {
    "collapsed": false,
    "ExecuteTime": {
     "end_time": "2023-07-06T14:23:12.159525200Z",
     "start_time": "2023-07-06T14:23:12.151500400Z"
    }
   }
  },
  {
   "cell_type": "code",
   "execution_count": 4,
   "outputs": [
    {
     "name": "stdout",
     "output_type": "stream",
     "text": [
      "{'dim': 230.78466796875, 'params': 241.995264}\n"
     ]
    }
   ],
   "source": [
    "from MT6 import MT6\n",
    "from transformers import MT5TokenizerFast, T5ForConditionalGeneration\n",
    "\n",
    "tok_en = MT5TokenizerFast.from_pretrained(\"nikodallanoce/mt5-cc4-vanilla-32k-5\")\n",
    "\n",
    "cuda_dev = \"cpu\"\n",
    "\n",
    "model = MT5ForConditionalGeneration.from_pretrained(\n",
    "        \"/home/n.dallanoce/PyCharm/pretraining/weights/mt6_pre_en-fr(M1)_twe/checkpoint-100000\", decoder_start_token_id=None)\n",
    "model = model.to(cuda_dev)\n",
    "model.train(False)\n",
    "model_dim, n_param = model_size(model)\n",
    "print({'dim': model_dim, 'params': n_param / 1e6})"
   ],
   "metadata": {
    "collapsed": false,
    "ExecuteTime": {
     "end_time": "2023-07-06T14:23:17.255977200Z",
     "start_time": "2023-07-06T14:23:15.939011500Z"
    }
   }
  },
  {
   "cell_type": "code",
   "execution_count": 5,
   "outputs": [
    {
     "name": "stderr",
     "output_type": "stream",
     "text": [
      "Found cached dataset cc100 (/data/n.dallanoce/cc100/huggingface/cc100/en-lang=en/0.0.0/8159941b93eb06d0288bb80be26ddfe8213c0c5e33286619c85ad8e1ee0eb91c)\n"
     ]
    }
   ],
   "source": [
    "dataset = load_dataset(\"cc100\", lang=\"en\",\n",
    "                       cache_dir=\"/data/n.dallanoce/cc100/huggingface\",\n",
    "                       split=f\"train[{4096}:{4096 * 2}]\",\n",
    "                       verification_mode='no_checks')"
   ],
   "metadata": {
    "collapsed": false,
    "ExecuteTime": {
     "end_time": "2023-05-08T13:54:11.959515200Z",
     "start_time": "2023-05-08T13:54:10.086838100Z"
    }
   }
  },
  {
   "cell_type": "code",
   "execution_count": 4,
   "outputs": [
    {
     "ename": "NameError",
     "evalue": "name 'dataset' is not defined",
     "output_type": "error",
     "traceback": [
      "\u001B[0;31m---------------------------------------------------------------------------\u001B[0m",
      "\u001B[0;31mNameError\u001B[0m                                 Traceback (most recent call last)",
      "Cell \u001B[0;32mIn[4], line 2\u001B[0m\n\u001B[1;32m      1\u001B[0m index \u001B[38;5;241m=\u001B[39m \u001B[38;5;241m43\u001B[39m\n\u001B[0;32m----> 2\u001B[0m sent \u001B[38;5;241m=\u001B[39m \u001B[43mdataset\u001B[49m[index][\u001B[38;5;124m'\u001B[39m\u001B[38;5;124mtext\u001B[39m\u001B[38;5;124m'\u001B[39m]\n\u001B[1;32m      3\u001B[0m src_sent, tgt_sent \u001B[38;5;241m=\u001B[39m MT6NoiseFunction()\u001B[38;5;241m.\u001B[39mcompute(sent, seed\u001B[38;5;241m=\u001B[39mindex)\n\u001B[1;32m      4\u001B[0m \u001B[38;5;28mprint\u001B[39m(\u001B[38;5;124mf\u001B[39m\u001B[38;5;124m\"\u001B[39m\u001B[38;5;124moriginal: \u001B[39m\u001B[38;5;132;01m{\u001B[39;00msent\u001B[38;5;132;01m}\u001B[39;00m\u001B[38;5;124m \u001B[39m\u001B[38;5;130;01m\\n\u001B[39;00m\u001B[38;5;124m \u001B[39m\u001B[38;5;130;01m\\n\u001B[39;00m\u001B[38;5;124msource: \u001B[39m\u001B[38;5;132;01m{\u001B[39;00msrc_sent\u001B[38;5;132;01m}\u001B[39;00m\u001B[38;5;124m\"\u001B[39m)\n",
      "\u001B[0;31mNameError\u001B[0m: name 'dataset' is not defined"
     ]
    }
   ],
   "source": [
    "index = 43\n",
    "sent = dataset[index]['text']\n",
    "src_sent, tgt_sent = MT6NoiseFunction().compute(sent, seed=index)\n",
    "print(f\"original: {sent} \\n \\nsource: {src_sent}\")"
   ],
   "metadata": {
    "collapsed": false,
    "ExecuteTime": {
     "end_time": "2023-05-08T13:45:26.134945600Z",
     "start_time": "2023-05-08T13:45:26.102769Z"
    }
   }
  },
  {
   "cell_type": "code",
   "execution_count": 32,
   "outputs": [
    {
     "name": "stdout",
     "output_type": "stream",
     "text": [
      "original: Deals and offers on Tripoli Upholstered Wood Frame Platform Bed Size: King, Color: Beige are only unbelievable here. You will love to look for your favourite product which can be obtained at such an amazing price. If you might be thinking concerning the high shipping prices then search for the reviews. \n",
      " \n",
      "source: Deals and offers on Tripoli Upholstered Wood Frame Platform Bed Size: King, Color: Beige are only <extra_id_0> will <extra_id_1> favourite product which can <extra_id_2> at such an amazing price. <extra_id_3> be thinking <extra_id_4> high shipping prices then search for the reviews.\n"
     ]
    }
   ],
   "source": [
    "from noise_functions.MT5NoiseFunction import MT5NoiseFunction\n",
    "\n",
    "index = 2\n",
    "#sent = dataset[index]['text']\n",
    "sent = \"Deals and offers on Tripoli Upholstered Wood Frame Platform Bed Size: King, Color: Beige are only unbelievable here. You will love to look for your favourite product which can be obtained at such an amazing price. If you might be thinking concerning the high shipping prices then search for the reviews.\"\n",
    "\n",
    "src_sent, tgt_sent = MT6NoiseFunction(n_groups=1, noise_density=0.3).compute(sent, seed=index)\n",
    "#src_sent = sent + \"</s> \"+ src_sent\n",
    "print(f\"original: {sent} \\n \\nsource: {src_sent}\")"
   ],
   "metadata": {
    "collapsed": false,
    "ExecuteTime": {
     "end_time": "2023-05-08T22:00:07.377206700Z",
     "start_time": "2023-05-08T22:00:07.329457800Z"
    }
   }
  },
  {
   "cell_type": "code",
   "execution_count": 33,
   "outputs": [
    {
     "name": "stdout",
     "output_type": "stream",
     "text": [
      " prediction: ['<pad><extra_id_0> Deals and offers on Tripoli Upholstered Wood Frame<extra_id_1> Color: Beige are only<extra_id_2></s>'] \n",
      " \n",
      " source: Deals and offers on Tripoli Upholstered Wood Frame Platform Bed Size: King, Color: Beige are only <extra_id_0> will <extra_id_1> favourite product which can <extra_id_2> at such an amazing price. <extra_id_3> be thinking <extra_id_4> high shipping prices then search for the reviews. \n",
      " \n",
      " label: ['<extra_id_0> unbelievable here. You <extra_id_1> love to look for your <extra_id_2> be obtained <extra_id_3> If you might <extra_id_4> concerning the <extra_id_5>']\n"
     ]
    }
   ],
   "source": [
    "input_ids = tok_en(src_sent, return_tensors=\"pt\").input_ids\n",
    "sequence_ids = model.generate(input_ids.to(cuda_dev), max_length=128)\n",
    "sequences = tok_en.batch_decode(sequence_ids, skip_special_tokens=False)\n",
    "print(f\" prediction: {sequences} \\n \\n source: {src_sent} \\n \\n label: {tgt_sent}\")"
   ],
   "metadata": {
    "collapsed": false,
    "ExecuteTime": {
     "end_time": "2023-05-08T22:00:28.636625800Z",
     "start_time": "2023-05-08T22:00:28.101870700Z"
    }
   }
  }
 ],
 "metadata": {
  "kernelspec": {
   "display_name": "Python 3",
   "language": "python",
   "name": "python3"
  },
  "language_info": {
   "codemirror_mode": {
    "name": "ipython",
    "version": 2
   },
   "file_extension": ".py",
   "mimetype": "text/x-python",
   "name": "python",
   "nbconvert_exporter": "python",
   "pygments_lexer": "ipython2",
   "version": "2.7.6"
  }
 },
 "nbformat": 4,
 "nbformat_minor": 0
}
