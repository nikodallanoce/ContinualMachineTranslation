{
 "cells": [
  {
   "cell_type": "code",
   "execution_count": 1,
   "outputs": [],
   "source": [
    "from datasets import load_dataset\n",
    "from transformers import MT5Tokenizer, MT5ForConditionalGeneration, MT5Config\n",
    "import torch\n",
    "from transformers.utils import is_torch_fx_proxy\n",
    "\n",
    "from noise_functions.MT6NoiseFunction import MT6NoiseFunction"
   ],
   "metadata": {
    "collapsed": false,
    "ExecuteTime": {
     "start_time": "2023-04-20T15:45:52.391567Z",
     "end_time": "2023-04-20T15:45:54.018998Z"
    }
   }
  },
  {
   "cell_type": "code",
   "execution_count": 2,
   "outputs": [],
   "source": [
    "def model_size(model):\n",
    "    param_size = 0\n",
    "    for param in model.parameters():\n",
    "        param_size += param.nelement() * param.element_size()\n",
    "    buffer_size = 0\n",
    "    for buffer in model.buffers():\n",
    "        buffer_size += buffer.nelement() * buffer.element_size()\n",
    "\n",
    "    size_all_mb = (param_size + buffer_size) / 1024 ** 2\n",
    "    return size_all_mb"
   ],
   "metadata": {
    "collapsed": false,
    "ExecuteTime": {
     "start_time": "2023-04-20T15:45:54.018466Z",
     "end_time": "2023-04-20T15:45:54.018998Z"
    }
   }
  },
  {
   "cell_type": "code",
   "execution_count": 3,
   "outputs": [
    {
     "name": "stdout",
     "output_type": "stream",
     "text": [
      "269.466796875\n"
     ]
    }
   ],
   "source": [
    "from transformers import MT5TokenizerFast\n",
    "\n",
    "tok_en = MT5TokenizerFast.from_pretrained(\"nikodallanoce/mt5-cc4-vanilla-32k-5\")\n",
    "\n",
    "cuda_dev = \"cpu\"\n",
    "\n",
    "model = MT5ForConditionalGeneration.from_pretrained(\n",
    "    \"/home/n.dallanoce/PyCharm/pretraining/weights/mt5_tests/checkpoint-150000\")\n",
    "model = model.to(cuda_dev)\n",
    "model.train(False)\n",
    "print(model_size(model))"
   ],
   "metadata": {
    "collapsed": false,
    "ExecuteTime": {
     "start_time": "2023-04-20T15:45:55.109483Z",
     "end_time": "2023-04-20T15:45:56.227616Z"
    }
   }
  },
  {
   "cell_type": "code",
   "execution_count": 4,
   "outputs": [
    {
     "name": "stderr",
     "output_type": "stream",
     "text": [
      "Found cached dataset cc100 (/data/n.dallanoce/cc100/huggingface/cc100/en-lang=en/0.0.0/8159941b93eb06d0288bb80be26ddfe8213c0c5e33286619c85ad8e1ee0eb91c)\n"
     ]
    }
   ],
   "source": [
    "dataset = load_dataset(\"cc100\", lang=\"en\",\n",
    "                                cache_dir=\"/data/n.dallanoce/cc100/huggingface\",\n",
    "                                split=f\"train[{4096}:{4096*2}]\",\n",
    "                                verification_mode='no_checks')"
   ],
   "metadata": {
    "collapsed": false,
    "ExecuteTime": {
     "start_time": "2023-04-20T15:45:57.134671Z",
     "end_time": "2023-04-20T15:45:58.473097Z"
    }
   }
  },
  {
   "cell_type": "code",
   "execution_count": 5,
   "outputs": [
    {
     "name": "stdout",
     "output_type": "stream",
     "text": [
      "original: over the bread and butter so that it made a pudding, and you have been\n",
      " \n",
      " \n",
      "source: over <extra_id_0> so <extra_id_1> it <extra_id_2> a <extra_id_3> and you <extra_id_4> been\n",
      "\n"
     ]
    }
   ],
   "source": [
    "index = 43\n",
    "sent = dataset[index]['text']\n",
    "src_sent, tgt_sent = MT6NoiseFunction().compute(sent, seed=index)\n",
    "print(f\"original: {sent} \\n \\nsource: {src_sent}\")"
   ],
   "metadata": {
    "collapsed": false,
    "ExecuteTime": {
     "start_time": "2023-04-20T15:45:58.975133Z",
     "end_time": "2023-04-20T15:45:58.975133Z"
    }
   }
  },
  {
   "cell_type": "code",
   "execution_count": 16,
   "outputs": [
    {
     "name": "stdout",
     "output_type": "stream",
     "text": [
      "original: We introduce how to convert the following three types of the language understanding task into the text-to-text format. Under this setting, the models should be fine-tuned only on English training data but evaluated on all target languages. Moreover, for each pretrained model, only one model is used for all languages rather than selecting fine-tuned models separately. \n",
      " \n",
      "source: We introduce how to convert the following <extra_id_0> language understanding task into the text-to-text format. <extra_id_1> models <extra_id_2> only on English training <extra_id_3> evaluated <extra_id_4> for each pretrained model, <extra_id_5> model <extra_id_6> languages rather <extra_id_7> separately.\n"
     ]
    }
   ],
   "source": [
    "from noise_functions.MT5NoiseFunction import MT5NoiseFunction\n",
    "\n",
    "index = 1\n",
    "#sent = dataset[index]['text']\n",
    "sent = \"We introduce how to convert the following three types of the language understanding task into the text-to-text format. Under this setting, the models should be fine-tuned only on English training data but evaluated on all target languages. Moreover, for each pretrained model, only one model is used for all languages rather than selecting fine-tuned models separately.\"\n",
    "\n",
    "src_sent, tgt_sent = MT5NoiseFunction().compute(sent, seed=index)\n",
    "print(f\"original: {sent} \\n \\nsource: {src_sent}\")"
   ],
   "metadata": {
    "collapsed": false,
    "ExecuteTime": {
     "start_time": "2023-04-20T15:49:16.099515Z",
     "end_time": "2023-04-20T15:49:16.099515Z"
    }
   }
  },
  {
   "cell_type": "code",
   "execution_count": 17,
   "outputs": [
    {
     "name": "stdout",
     "output_type": "stream",
     "text": [
      " prediction: ['<pad><extra_id_0> as a<extra_id_1> The<extra_id_2> are based<extra_id_3> and are<extra_id_4> by the synthesis<extra_id_5> and the<extra_id_6> is as follows: as a result of the<extra_id_7> than as a synthetic as a whole'] \n",
      " \n",
      " source: We introduce how to convert the following <extra_id_0> language understanding task into the text-to-text format. <extra_id_1> models <extra_id_2> only on English training <extra_id_3> evaluated <extra_id_4> for each pretrained model, <extra_id_5> model <extra_id_6> languages rather <extra_id_7> separately. \n",
      " \n",
      " label: <extra_id_0> three types of the <extra_id_1> Under this setting, the <extra_id_2> should be fine-tuned <extra_id_3> data but <extra_id_4> on all target languages. Moreover, <extra_id_5> only one <extra_id_6> is used for all <extra_id_7> than selecting fine-tuned models <extra_id_8>\n"
     ]
    }
   ],
   "source": [
    "input_ids = tok_en(src_sent, return_tensors=\"pt\").input_ids\n",
    "sequence_ids = model.generate(input_ids.to(cuda_dev), max_length=64, decoder_start_token_id=model.config.pad_token_id)\n",
    "sequences = tok_en.batch_decode(sequence_ids, skip_special_tokens=False)\n",
    "print(f\" prediction: {sequences} \\n \\n source: {src_sent} \\n \\n label: {tgt_sent}\")"
   ],
   "metadata": {
    "collapsed": false,
    "ExecuteTime": {
     "start_time": "2023-04-20T15:49:20.552216Z",
     "end_time": "2023-04-20T15:49:22.704575Z"
    }
   }
  }
 ],
 "metadata": {
  "kernelspec": {
   "display_name": "Python 3",
   "language": "python",
   "name": "python3"
  },
  "language_info": {
   "codemirror_mode": {
    "name": "ipython",
    "version": 2
   },
   "file_extension": ".py",
   "mimetype": "text/x-python",
   "name": "python",
   "nbconvert_exporter": "python",
   "pygments_lexer": "ipython2",
   "version": "2.7.6"
  }
 },
 "nbformat": 4,
 "nbformat_minor": 0
}
