{
 "cells": [
  {
   "cell_type": "code",
   "execution_count": 1,
   "metadata": {
    "collapsed": true
   },
   "outputs": [],
   "source": [
    "import os\n",
    "\n",
    "from transformers.utils import is_torch_fx_proxy\n",
    "\n",
    "os.environ[\"CUDA_DEVICE_ORDER\"] = \"PCI_BUS_ID\"  # see issue #152\n",
    "os.environ[\"CUDA_VISIBLE_DEVICES\"] = \"2\"\n",
    "\n",
    "import datasets\n",
    "import torch\n",
    "from torch import nn\n",
    "from transformers import MBartModel, MBartTokenizer, MBartConfig, MBartForConditionalGeneration\n",
    "from datasets import concatenate_datasets, load_from_disk\n",
    "from torch.optim import *\n",
    "from torch.utils import data\n",
    "from torch.utils.data import DataLoader, TensorDataset\n",
    "from datasets import load_dataset"
   ]
  },
  {
   "cell_type": "code",
   "execution_count": 2,
   "outputs": [],
   "source": [
    "def model_size(model):\n",
    "    param_size = 0\n",
    "    for param in model.parameters():\n",
    "        param_size += param.nelement() * param.element_size()\n",
    "    buffer_size = 0\n",
    "    for buffer in model.buffers():\n",
    "        buffer_size += buffer.nelement() * buffer.element_size()\n",
    "\n",
    "    size_all_mb = (param_size + buffer_size) / 1024 ** 2\n",
    "    return size_all_mb"
   ],
   "metadata": {
    "collapsed": false
   }
  },
  {
   "cell_type": "code",
   "execution_count": 6,
   "outputs": [
    {
     "name": "stdout",
     "output_type": "stream",
     "text": [
      "661.6861991882324\n"
     ]
    }
   ],
   "source": [
    "#pre_train_ds = load_dataset(\"text\", data_files={\"train\": [\"/data/n.dallanoce/cc100/en.txt\"]},\n",
    "#                            cache_dir=\"/data/n.dallanoce/cc100/hugg_en\", split='train', ignore_verifications=True)\n",
    "\n",
    "tok_en = MBartTokenizer.from_pretrained(\"facebook/mbart-large-cc25\", src_lang=\"en_XX\")\n",
    "cuda_dev = \"cuda:0\"\n",
    "#model = model.to(cuda_dev)\n",
    "model = MBartForConditionalGeneration.from_pretrained(\n",
    "    \"/home/n.dallanoce/PyCharm/pretraining/weights/mbart_cc100/checkpoint-15000\").to(cuda_dev)\n",
    "model.train(False)\n",
    "print(model_size(model))\n",
    "\n",
    "#dataset_loaded = load_from_disk(\"europarl_eng_tokenized\")\n",
    "#pre_train_load = DataLoader(pre_train_ds, batch_size=8, drop_last=True, shuffle=False, pin_memory=True, num_workers=4)"
   ],
   "metadata": {
    "collapsed": false
   }
  },
  {
   "cell_type": "code",
   "execution_count": 7,
   "outputs": [
    {
     "name": "stdout",
     "output_type": "stream",
     "text": [
      "173207040\n"
     ]
    }
   ],
   "source": [
    "param_tot = 0\n",
    "for param in model.parameters():\n",
    "    param_tot += param.nelement()\n",
    "print(param_tot)"
   ],
   "metadata": {
    "collapsed": false
   }
  },
  {
   "cell_type": "code",
   "execution_count": 27,
   "outputs": [
    {
     "data": {
      "text/plain": "['was', 'had', 'would', 'could', 'said']"
     },
     "execution_count": 27,
     "metadata": {},
     "output_type": "execute_result"
    }
   ],
   "source": [
    "sentence = \"Travelling alone can be a daunting prospect, not least to attend a wedding alone. The original plan had been to go with another neighbour, but she slipped a disc in her back and was unable to fly.\"\n",
    "test_ids = tok_en([sentence], add_special_tokens=True, return_tensors=\"pt\")[\"input_ids\"]\n",
    "logits = model(test_ids.to(cuda_dev)).logits\n",
    "masked_index = (test_ids[0] == tok_en.mask_token_id)  #.nonzero().item()\n",
    "masked_index = torch.nonzero(masked_index).item()\n",
    "probs = logits[0, masked_index].softmax(dim=0)\n",
    "values, predictions = probs.topk(5)\n",
    "tok_en.decode(predictions).split()"
   ],
   "metadata": {
    "collapsed": false
   }
  },
  {
   "cell_type": "code",
   "execution_count": 25,
   "outputs": [
    {
     "name": "stdout",
     "output_type": "stream",
     "text": [
      "tensor([[ 30720,   2069,  75447,    831,    186,     10,     48, 128396, 109736,\n",
      "              4,    959,  19713,     47,  29966,     10,  81141,  75447,      5,\n",
      "            581,   7311,   1774,   1902,   2809,     47,    738,    678,  15700,\n",
      "         250026,      6,      4,   1284,   2412, 146614,     71,     10,  17116,\n",
      "             23,    604,   4420,    136,    509,     51,   2886,     47,  12403,\n",
      "              5,      2, 250004]], device='cuda:0')\n",
      "['Travelling alone can a daunting prospect, not least to attend a wedding alone. The original plan had been to go with another, but she slipped a disc in her back and was unable to be awful of the. She was amusant to fly.']\n"
     ]
    }
   ],
   "source": [
    "example_english_phrase = \"Travelling alone can be a daunting prospect, not least to attend a wedding alone. The original plan had been to go with another neighbour, but she slipped a disc in her back and was unable to fly.\"\n",
    "batch = tok_en(example_english_phrase, return_tensors=\"pt\").to(cuda_dev)\n",
    "print(batch[\"input_ids\"])\n",
    "generated_ids = model.generate(batch[\"input_ids\"], max_new_tokens=128,\n",
    "                               pad_token_id=tok_en.pad_token_id,\n",
    "                               eos_token_id=tok_en.eos_token_id)\n",
    "print(tok_en.batch_decode(generated_ids, skip_special_tokens=True))"
   ],
   "metadata": {
    "collapsed": false
   }
  },
  {
   "cell_type": "code",
   "execution_count": null,
   "outputs": [],
   "source": [
    "example_english_phrase = \"Loving my <mask> almost due can't wait to see my baby boy.\"\n",
    "batch = tok_en(example_english_phrase, return_tensors=\"pt\").to(cuda_dev)\n",
    "print(batch[\"input_ids\"])\n",
    "generated_ids = model.generate(batch[\"input_ids\"], max_new_tokens=128,\n",
    "                               pad_token_id=tok_en.pad_token_id,\n",
    "                               eos_token_id=tok_en.eos_token_id)\n",
    "print(tok_en.batch_decode(generated_ids, skip_special_tokens=True))"
   ],
   "metadata": {
    "collapsed": false
   }
  },
  {
   "cell_type": "code",
   "execution_count": 14,
   "outputs": [
    {
     "name": "stderr",
     "output_type": "stream",
     "text": [
      "Found cached dataset cc100 (/data/n.dallanoce/cc100/huggingface/cc100/fr-lang=fr/0.0.0/8159941b93eb06d0288bb80be26ddfe8213c0c5e33286619c85ad8e1ee0eb91c)\n"
     ]
    },
    {
     "data": {
      "text/plain": "{'id': '5',\n 'text': \"- Je penses et réfléchit tout seul sur des sujets n'ayant rien à voir avec une situation. Exemple, quand j'attends mes soeurs et ma mère devant un magasin, je réfléchit à la création du monde.\\n\"}"
     },
     "execution_count": 14,
     "metadata": {},
     "output_type": "execute_result"
    }
   ],
   "source": [
    "cc100_fr = load_dataset(\"cc100\", lang=\"fr\",\n",
    "                            cache_dir=\"/data/n.dallanoce/cc100/huggingface\",\n",
    "                            split=f\"train[:1024]\",\n",
    "                            verification_mode='no_checks')\n",
    "cc100_fr[5]"
   ],
   "metadata": {
    "collapsed": false
   }
  },
  {
   "cell_type": "code",
   "execution_count": 16,
   "outputs": [
    {
     "name": "stdout",
     "output_type": "stream",
     "text": [
      "tensor([[   845,  19067,      7,     82, 159096,     18,   2533,  35372,    613,\n",
      "            224,  24693,      7,    653,     25,   5822,    660,  15324,    253,\n",
      "          13283,   1609,    773,  16648,      5,   5443,     13,  33209,      4,\n",
      "          12723, 250026,     82,    291,  94683,  51841,     51,  82193,      4,\n",
      "             55, 159096,     18,    253,     21,  50976,    115,  11146,      5,\n",
      "              2, 250008]], device='cuda:0')\n",
      "[\"Je penses et réfléchit tout seul sur des sujets n'ayant rien à voir avec une situation. Exemple, quand je suis un peu plus loin, et ma mère devant un magasin, je réfléchit à la création du monde.\"]\n"
     ]
    }
   ],
   "source": [
    "tok_fr = MBartTokenizer.from_pretrained(\"facebook/mbart-large-cc25\", src_lang=\"fr_XX\")\n",
    "sent = \"Je penses et réfléchit tout seul sur des sujets n'ayant rien à voir avec une situation. Exemple, quand j'attends mes soeurs et ma mère devant un magasin, je réfléchit à la création du monde.\"\n",
    "batch = tok_fr(sent, return_tensors=\"pt\").to(cuda_dev)\n",
    "print(batch[\"input_ids\"])\n",
    "generated_ids = model.generate(batch[\"input_ids\"], max_new_tokens=128,\n",
    "                               pad_token_id=tok_en.pad_token_id,\n",
    "                               eos_token_id=tok_en.eos_token_id)\n",
    "print(tok_en.batch_decode(generated_ids, skip_special_tokens=True))"
   ],
   "metadata": {
    "collapsed": false
   }
  }
 ],
 "metadata": {
  "kernelspec": {
   "name": "myenv",
   "language": "python",
   "display_name": "Python (deeptorch)"
  },
  "language_info": {
   "codemirror_mode": {
    "name": "ipython",
    "version": 2
   },
   "file_extension": ".py",
   "mimetype": "text/x-python",
   "name": "python",
   "nbconvert_exporter": "python",
   "pygments_lexer": "ipython2",
   "version": "2.7.6"
  }
 },
 "nbformat": 4,
 "nbformat_minor": 0
}
