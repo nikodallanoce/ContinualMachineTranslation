{
 "cells": [
  {
   "cell_type": "code",
   "execution_count": 1,
   "metadata": {
    "collapsed": true,
    "ExecuteTime": {
     "start_time": "2023-03-31T15:22:04.358185Z",
     "end_time": "2023-03-31T15:22:05.724924Z"
    }
   },
   "outputs": [],
   "source": [
    "import os\n",
    "\n",
    "from transformers.utils import is_torch_fx_proxy\n",
    "\n",
    "os.environ[\"CUDA_DEVICE_ORDER\"] = \"PCI_BUS_ID\"  # see issue #152\n",
    "os.environ[\"CUDA_VISIBLE_DEVICES\"] = \"2\"\n",
    "\n",
    "import datasets\n",
    "import torch\n",
    "from torch import nn\n",
    "from transformers import MBartModel, MBartTokenizer, MBartConfig, MBartForConditionalGeneration\n",
    "from datasets import concatenate_datasets, load_from_disk\n",
    "from torch.optim import *\n",
    "from torch.utils import data\n",
    "from torch.utils.data import DataLoader, TensorDataset\n",
    "from datasets import load_dataset"
   ]
  },
  {
   "cell_type": "code",
   "execution_count": 2,
   "outputs": [],
   "source": [
    "def model_size(model):\n",
    "    param_size = 0\n",
    "    for param in model.parameters():\n",
    "        param_size += param.nelement() * param.element_size()\n",
    "    buffer_size = 0\n",
    "    for buffer in model.buffers():\n",
    "        buffer_size += buffer.nelement() * buffer.element_size()\n",
    "\n",
    "    size_all_mb = (param_size + buffer_size) / 1024 ** 2\n",
    "    return size_all_mb"
   ],
   "metadata": {
    "collapsed": false,
    "ExecuteTime": {
     "start_time": "2023-03-31T15:22:12.266454Z",
     "end_time": "2023-03-31T15:22:12.308198Z"
    }
   }
  },
  {
   "cell_type": "code",
   "execution_count": 3,
   "outputs": [
    {
     "name": "stdout",
     "output_type": "stream",
     "text": [
      "235.07921600341797\n"
     ]
    }
   ],
   "source": [
    "from transformers import AutoTokenizer\n",
    "\n",
    "#pre_train_ds = load_dataset(\"text\", data_files={\"train\": [\"/data/n.dallanoce/cc100/en.txt\"]},\n",
    "#                            cache_dir=\"/data/n.dallanoce/cc100/hugg_en\", split='train', ignore_verifications=True)\n",
    "tok_name = \"nikodallanoce/mbart-cc4-vanilla\"\n",
    "tok_en = AutoTokenizer.from_pretrained(tok_name, src_lang=\"en_XX\")\n",
    "cuda_dev = \"cpu\"\n",
    "#model = model.to(cuda_dev)\n",
    "model:MBartForConditionalGeneration = MBartForConditionalGeneration.from_pretrained(\n",
    "    \"/home/n.dallanoce/PyCharm/pretraining/weights/mbart_cc100_32k/checkpoint-270000\").to(cuda_dev)\n",
    "model.train(False)\n",
    "print(model_size(model))\n",
    "\n",
    "#dataset_loaded = load_from_disk(\"europarl_eng_tokenized\")\n",
    "#pre_train_load = DataLoader(pre_train_ds, batch_size=8, drop_last=True, shuffle=False, pin_memory=True, num_workers=4)"
   ],
   "metadata": {
    "collapsed": false,
    "ExecuteTime": {
     "start_time": "2023-03-31T15:22:22.679769Z",
     "end_time": "2023-03-31T15:22:24.230216Z"
    }
   }
  },
  {
   "cell_type": "code",
   "execution_count": 6,
   "outputs": [
    {
     "data": {
      "text/plain": "1.0"
     },
     "execution_count": 6,
     "metadata": {},
     "output_type": "execute_result"
    }
   ],
   "source": [
    "model.model.encoder.embed_scale"
   ],
   "metadata": {
    "collapsed": false,
    "ExecuteTime": {
     "start_time": "2023-03-31T15:26:32.753510Z",
     "end_time": "2023-03-31T15:26:32.760009Z"
    }
   }
  },
  {
   "cell_type": "code",
   "execution_count": null,
   "outputs": [],
   "source": [
    "param_tot = 0\n",
    "for param in model.parameters():\n",
    "    param_tot += param.nelement()\n",
    "print(param_tot)"
   ],
   "metadata": {
    "collapsed": false,
    "ExecuteTime": {
     "start_time": "2023-03-31T15:14:15.030588Z",
     "end_time": "2023-03-31T15:14:15.034130Z"
    }
   }
  },
  {
   "cell_type": "code",
   "execution_count": null,
   "outputs": [],
   "source": [
    "sentence = \"Travelling alone can be a daunting prospect, not least to attend a wedding alone. The original plan had been to go with another neighbour, but she slipped a disc in her back and was unable to fly.\"\n",
    "test_ids = tok_en([sentence], add_special_tokens=True, return_tensors=\"pt\")[\"input_ids\"]\n",
    "logits = model(test_ids.to(cuda_dev)).logits\n",
    "masked_index = (test_ids[0] == tok_en.mask_token_id)  #.nonzero().item()\n",
    "masked_index = torch.nonzero(masked_index).item()\n",
    "probs = logits[0, masked_index].softmax(dim=0)\n",
    "values, predictions = probs.topk(5)\n",
    "tok_en.decode(predictions).split()"
   ],
   "metadata": {
    "collapsed": false
   }
  },
  {
   "cell_type": "code",
   "execution_count": null,
   "outputs": [],
   "source": [
    "example_english_phrase = \"Travelling alone can be a daunting prospect, not least to attend a wedding alone. The original plan had been to go with another neighbour, but she slipped a disc in her back and was unable to fly.\"\n",
    "batch = tok_en(example_english_phrase, return_tensors=\"pt\").to(cuda_dev)\n",
    "print(batch[\"input_ids\"])\n",
    "generated_ids = model.generate(batch[\"input_ids\"], max_new_tokens=128,\n",
    "                               pad_token_id=tok_en.pad_token_id,\n",
    "                               eos_token_id=tok_en.eos_token_id)\n",
    "print(tok_en.batch_decode(generated_ids, skip_special_tokens=True))"
   ],
   "metadata": {
    "collapsed": false
   }
  },
  {
   "cell_type": "code",
   "execution_count": null,
   "outputs": [],
   "source": [
    "example_english_phrase = \"Loving my <mask> almost due can't wait to see my baby boy.\"\n",
    "batch = tok_en(example_english_phrase, return_tensors=\"pt\").to(cuda_dev)\n",
    "print(batch[\"input_ids\"])\n",
    "generated_ids = model.generate(batch[\"input_ids\"], max_new_tokens=128,\n",
    "                               pad_token_id=tok_en.pad_token_id,\n",
    "                               eos_token_id=tok_en.eos_token_id,\n",
    "                               decoder_start_token_id=tok_en.lang_code_to_id[tok_en.src_lang])\n",
    "print(tok_en.batch_decode(generated_ids, skip_special_tokens=True))"
   ],
   "metadata": {
    "collapsed": false
   }
  },
  {
   "cell_type": "code",
   "execution_count": null,
   "outputs": [],
   "source": [
    "cc100_fr = load_dataset(\"cc100\", lang=\"fr\",\n",
    "                        cache_dir=\"/data/n.dallanoce/cc100/huggingface\",\n",
    "                        split=f\"train[:1024]\",\n",
    "                        verification_mode='no_checks')\n",
    "cc100_fr[5]"
   ],
   "metadata": {
    "collapsed": false
   }
  },
  {
   "cell_type": "code",
   "execution_count": null,
   "outputs": [],
   "source": [
    "tok_fr = AutoTokenizer.from_pretrained(tok_name, src_lang=\"fr_XX\")\n",
    "sent = \"Je penses et réfléchit tout seul sur des sujets n'ayant rien à voir avec une situation. Exemple, quand j'attends mes soeurs et ma mère devant un magasin, je réfléchit à la création du monde.\"\n",
    "batch = tok_fr(sent, return_tensors=\"pt\").to(cuda_dev)\n",
    "print(batch[\"input_ids\"])\n",
    "generated_ids = model.generate(batch[\"input_ids\"], max_new_tokens=128,\n",
    "                               pad_token_id=tok_fr.pad_token_id,\n",
    "                               eos_token_id=tok_fr.eos_token_id,\n",
    "                               decoder_start_token_id=tok_fr.lang_code_to_id[tok_fr.src_lang])\n",
    "print(tok_en.batch_decode(generated_ids, skip_special_tokens=True))"
   ],
   "metadata": {
    "collapsed": false
   }
  },
  {
   "cell_type": "code",
   "execution_count": null,
   "outputs": [],
   "source": [
    "tok_fr.lang_code_to_id[tok_fr.src_lang]"
   ],
   "metadata": {
    "collapsed": false
   }
  }
 ],
 "metadata": {
  "kernelspec": {
   "name": "python3",
   "language": "python",
   "display_name": "Python 3 (ipykernel)"
  },
  "language_info": {
   "codemirror_mode": {
    "name": "ipython",
    "version": 2
   },
   "file_extension": ".py",
   "mimetype": "text/x-python",
   "name": "python",
   "nbconvert_exporter": "python",
   "pygments_lexer": "ipython2",
   "version": "2.7.6"
  }
 },
 "nbformat": 4,
 "nbformat_minor": 0
}
