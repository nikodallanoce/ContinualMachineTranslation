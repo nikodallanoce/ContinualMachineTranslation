{
 "cells": [
  {
   "cell_type": "code",
   "execution_count": 1,
   "metadata": {
    "collapsed": true
   },
   "outputs": [],
   "source": [
    "import os\n",
    "os.environ[\"CUDA_DEVICE_ORDER\"]=\"PCI_BUS_ID\"   # see issue #152\n",
    "os.environ[\"CUDA_VISIBLE_DEVICES\"]=\"2,3\"\n",
    "\n",
    "import datasets\n",
    "import torch\n",
    "from torch import nn\n",
    "from transformers import MBartModel, MBartTokenizer, MBartConfig, MBartForConditionalGeneration\n",
    "from datasets import concatenate_datasets, load_from_disk\n",
    "from torch.optim import *\n",
    "from torch.utils import data\n",
    "from torch.utils.data import DataLoader, TensorDataset\n",
    "from MBartPreTrainingDataset import MBartPreTrainingDataset\n",
    "from datasets import load_dataset\n",
    "from MBart import MBart\n",
    "from accelerate import Accelerator\n",
    "from MBartDataset import MBartDataset"
   ]
  },
  {
   "cell_type": "code",
   "execution_count": 2,
   "outputs": [],
   "source": [
    "def model_size(model):\n",
    "    param_size = 0\n",
    "    for param in model.parameters():\n",
    "        param_size += param.nelement() * param.element_size()\n",
    "    buffer_size = 0\n",
    "    for buffer in model.buffers():\n",
    "        buffer_size += buffer.nelement() * buffer.element_size()\n",
    "\n",
    "    size_all_mb = (param_size + buffer_size) / 1024 ** 2\n",
    "    return size_all_mb"
   ],
   "metadata": {
    "collapsed": false
   }
  },
  {
   "cell_type": "code",
   "execution_count": 3,
   "outputs": [
    {
     "name": "stdout",
     "output_type": "stream",
     "text": [
      "661.6861991882324\n"
     ]
    }
   ],
   "source": [
    "#pre_train_ds = load_dataset(\"text\", data_files={\"train\": [\"/data/n.dallanoce/cc100/en.txt\"]},\n",
    "#                            cache_dir=\"/data/n.dallanoce/cc100/hugg_en\", split='train', ignore_verifications=True)\n",
    "\n",
    "tok_en = MBartTokenizer.from_pretrained(\"facebook/mbart-large-cc25\", src_lang=\"en_XX\")\n",
    "\n",
    "#pre_train_ds = MBartPreTrainingDataset(pre_train_ds, tok_en, \"en\")\n",
    "\n",
    "mbart_config = MBartConfig(encoder_layers=6, decoder_layers=6,\n",
    "                           encoder_ffn_dim=2048, decoder_ffn_dim=2048,\n",
    "                           encoder_attention_heads=8, decoder_attention_heads=8,\n",
    "                           d_model=512, max_length=128, vocab_size=tok_en.vocab_size)\n",
    "\n",
    "#accelerator = Accelerator(mixed_precision='fp16', gradient_accumulation_steps=1)\n",
    "#model: MBart = MBart(mbart_config, device_ids=[3])\n",
    "cuda_dev = \"cpu\"\n",
    "#model = model.to(cuda_dev)\n",
    "model = MBartForConditionalGeneration(mbart_config).to(cuda_dev)\n",
    "model.train(False)\n",
    "print(model_size(model))\n",
    "\n",
    "#dataset_loaded = load_from_disk(\"europarl_eng_tokenized\")\n",
    "#pre_train_load = DataLoader(pre_train_ds, batch_size=8, drop_last=True, shuffle=False, pin_memory=True, num_workers=4)"
   ],
   "metadata": {
    "collapsed": false
   }
  },
  {
   "cell_type": "code",
   "execution_count": 4,
   "outputs": [
    {
     "name": "stdout",
     "output_type": "stream",
     "text": [
      "173207040\n"
     ]
    }
   ],
   "source": [
    "param_tot = 0\n",
    "for param in model.parameters():\n",
    "    param_tot += param.nelement()\n",
    "print(param_tot)"
   ],
   "metadata": {
    "collapsed": false
   }
  },
  {
   "cell_type": "code",
   "execution_count": 5,
   "outputs": [
    {
     "data": {
      "text/plain": "<All keys matched successfully>"
     },
     "execution_count": 5,
     "metadata": {},
     "output_type": "execute_result"
    }
   ],
   "source": [
    "model.load_state_dict(\n",
    "    torch.load(\"/home/n.dallanoce/PyCharm/pretraining/hugg_trainer/mbart_cc100_en_2/checkpoint-499800/pytorch_model.bin\",\n",
    "               map_location=cuda_dev))"
   ],
   "metadata": {
    "collapsed": false
   }
  },
  {
   "cell_type": "code",
   "execution_count": 25,
   "outputs": [
    {
     "data": {
      "text/plain": "['I</s>', 'The', 'It', 'If']"
     },
     "execution_count": 25,
     "metadata": {},
     "output_type": "execute_result"
    }
   ],
   "source": [
    "sentence = \"Loving my pregnancy almost due can't wait to see my baby boy.\"\n",
    "test_ids = tok_en([sentence], add_special_tokens=True, return_tensors=\"pt\")[\"input_ids\"]\n",
    "logits = model(test_ids.to(cuda_dev)).logits\n",
    "masked_index = (test_ids[0] == tok_en.mask_token_id)#.nonzero().item()\n",
    "masked_index = torch.nonzero(masked_index).item()\n",
    "probs = logits[0, masked_index].softmax(dim=0)\n",
    "values, predictions = probs.topk(5)\n",
    "tok_en.decode(predictions).split()"
   ],
   "metadata": {
    "collapsed": false
   }
  },
  {
   "cell_type": "code",
   "execution_count": 26,
   "outputs": [
    {
     "name": "stdout",
     "output_type": "stream",
     "text": [
      "[\"Loving my baby baby girl. I almost due can't wait to see my baby boy.\"]\n"
     ]
    }
   ],
   "source": [
    "example_english_phrase = \"Loving my <mask> almost due can't wait to see my baby boy.\"\n",
    "batch = tok_en(example_english_phrase, return_tensors=\"pt\").to(cuda_dev)\n",
    "generated_ids = model.generate(batch[\"input_ids\"], max_new_tokens=128,\n",
    "                               pad_token_id=tok_en.pad_token_id,\n",
    "                               eos_token_id=tok_en.eos_token_id)\n",
    "print(tok_en.batch_decode(generated_ids, skip_special_tokens=True))"
   ],
   "metadata": {
    "collapsed": false
   }
  },
  {
   "cell_type": "code",
   "execution_count": 1,
   "outputs": [],
   "source": [
    "from transformers import MBartForConditionalGeneration, MBartTokenizer\n",
    "\n",
    "tok_en = MBartTokenizer.from_pretrained(\"facebook/mbart-large-cc25\", src_lang=\"en_XX\")\n",
    "model = MBartForConditionalGeneration.from_pretrained(\"facebook/mbart-large-50\")\n",
    "\n",
    "#cuda_dev = \"cuda:1\"\n",
    "#model = model.to(cuda_dev)"
   ],
   "metadata": {
    "collapsed": false
   }
  },
  {
   "cell_type": "code",
   "execution_count": 7,
   "outputs": [
    {
     "data": {
      "text/plain": "[33600, 31, 759, 34391, 5, 11249, 621, 398, 32, 2, 250004]"
     },
     "execution_count": 7,
     "metadata": {},
     "output_type": "execute_result"
    }
   ],
   "source": [
    "tok_en(\"hello my friend. How are you?\").input_ids"
   ],
   "metadata": {
    "collapsed": false
   }
  },
  {
   "cell_type": "code",
   "execution_count": 4,
   "outputs": [
    {
     "data": {
      "text/plain": "['it',\n '.',\n 'At',\n 'any',\n 'rate',\n ',',\n 'the',\n 'superior',\n 'speed',\n '<mask>',\n 'Hi',\n 'ram',\n '</s>',\n 'en_XX',\n '<pad>',\n '<pad>',\n '<pad>',\n '<pad>',\n '<pad>',\n '<pad>',\n '<pad>',\n '<pad>',\n '<pad>',\n '<pad>',\n '<pad>',\n '<pad>',\n '<pad>',\n '<pad>',\n '<pad>',\n '<pad>',\n '<pad>',\n '<pad>',\n '<pad>',\n '<pad>',\n '<pad>',\n '<pad>',\n '<pad>',\n '<pad>',\n '<pad>',\n '<pad>',\n '<pad>',\n '<pad>',\n '<pad>',\n '<pad>',\n '<pad>',\n '<pad>',\n '<pad>',\n '<pad>',\n '<pad>',\n '<pad>',\n '<pad>',\n '<pad>',\n '<pad>',\n '<pad>',\n '<pad>',\n '<pad>',\n '<pad>',\n '<pad>',\n '<pad>',\n '<pad>',\n '<pad>',\n '<pad>',\n '<pad>',\n '<pad>',\n '<pad>',\n '<pad>',\n '<pad>',\n '<pad>',\n '<pad>',\n '<pad>',\n '<pad>',\n '<pad>',\n '<pad>',\n '<pad>',\n '<pad>',\n '<pad>',\n '<pad>',\n '<pad>',\n '<pad>',\n '<pad>',\n '<pad>',\n '<pad>',\n '<pad>',\n '<pad>',\n '<pad>',\n '<pad>',\n '<pad>',\n '<pad>',\n '<pad>',\n '<pad>',\n '<pad>',\n '<pad>',\n '<pad>',\n '<pad>',\n '<pad>',\n '<pad>',\n '<pad>',\n '<pad>',\n '<pad>',\n '<pad>',\n '<pad>',\n '<pad>',\n '<pad>',\n '<pad>',\n '<pad>',\n '<pad>',\n '<pad>',\n '<pad>',\n '<pad>',\n '<pad>',\n '<pad>',\n '<pad>',\n '<pad>',\n '<pad>',\n '<pad>',\n '<pad>',\n '<pad>',\n '<pad>',\n '<pad>',\n '<pad>',\n '<pad>',\n '<pad>',\n '<pad>',\n '<pad>',\n '<pad>',\n '<pad>',\n '<pad>',\n '<pad>']"
     },
     "execution_count": 4,
     "metadata": {},
     "output_type": "execute_result"
    }
   ],
   "source": [
    "tok_en.batch_decode(torch.tensor([   442,      5,   1913,   2499,  34515,      4,     70,  14597,  38352,\n",
    "        250026,   2673,   2198,      2, 250004,      1,      1,      1,      1,\n",
    "             1,      1,      1,      1,      1,      1,      1,      1,      1,\n",
    "             1,      1,      1,      1,      1,      1,      1,      1,      1,\n",
    "             1,      1,      1,      1,      1,      1,      1,      1,      1,\n",
    "             1,      1,      1,      1,      1,      1,      1,      1,      1,\n",
    "             1,      1,      1,      1,      1,      1,      1,      1,      1,\n",
    "             1,      1,      1,      1,      1,      1,      1,      1,      1,\n",
    "             1,      1,      1,      1,      1,      1,      1,      1,      1,\n",
    "             1,      1,      1,      1,      1,      1,      1,      1,      1,\n",
    "             1,      1,      1,      1,      1,      1,      1,      1,      1,\n",
    "             1,      1,      1,      1,      1,      1,      1,      1,      1,\n",
    "             1,      1,      1,      1,      1,      1,      1,      1,      1,\n",
    "             1,      1,      1,      1,      1,      1,      1,      1,      1,\n",
    "             1,      1]), skip_special_tokens=True)"
   ],
   "metadata": {
    "collapsed": false
   }
  },
  {
   "cell_type": "code",
   "execution_count": 7,
   "outputs": [
    {
     "data": {
      "text/plain": "[[35378, 3642, 621, 398, 32, 67455, 45458, 5, 2, 250004],\n [25689, 398, 5, 2, 250004]]"
     },
     "execution_count": 7,
     "metadata": {},
     "output_type": "execute_result"
    }
   ],
   "source": [
    "tok_en = MBartTokenizer.from_pretrained(\"facebook/mbart-large-cc25\", src_lang=\"en_XX\")\n",
    "test_ids = tok_en([\"Hello how are you? Fine thanks.\", \"Thank you.\"], add_special_tokens=True)[\"input_ids\"]\n",
    "test_ids"
   ],
   "metadata": {
    "collapsed": false
   }
  }
 ],
 "metadata": {
  "kernelspec": {
   "name": "myenv",
   "language": "python",
   "display_name": "Python (deeptorch)"
  },
  "language_info": {
   "codemirror_mode": {
    "name": "ipython",
    "version": 2
   },
   "file_extension": ".py",
   "mimetype": "text/x-python",
   "name": "python",
   "nbconvert_exporter": "python",
   "pygments_lexer": "ipython2",
   "version": "2.7.6"
  }
 },
 "nbformat": 4,
 "nbformat_minor": 0
}
