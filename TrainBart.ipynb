{
 "cells": [
  {
   "cell_type": "code",
   "execution_count": 1,
   "metadata": {
    "collapsed": true
   },
   "outputs": [],
   "source": [
    "import datasets\n",
    "import torch\n",
    "from torch import nn\n",
    "from transformers import MBartModel, MBartTokenizer, MBartConfig\n",
    "from datasets import concatenate_datasets, load_from_disk\n",
    "from torch.optim import *\n",
    "from torch.utils import data\n",
    "from torch.utils.data import DataLoader, TensorDataset\n",
    "from CustomDataset import CustomDataset\n",
    "from MBart import MBart\n",
    "from OriginalDataset import OriginalDataset"
   ]
  },
  {
   "cell_type": "code",
   "execution_count": 2,
   "outputs": [],
   "source": [
    "def model_size(model):\n",
    "    param_size = 0\n",
    "    for param in model.parameters():\n",
    "        param_size += param.nelement() * param.element_size()\n",
    "    buffer_size = 0\n",
    "    for buffer in model.buffers():\n",
    "        buffer_size += buffer.nelement() * buffer.element_size()\n",
    "\n",
    "    size_all_mb = (param_size + buffer_size) / 1024 ** 2\n",
    "    return size_all_mb"
   ],
   "metadata": {
    "collapsed": false
   }
  },
  {
   "cell_type": "code",
   "execution_count": null,
   "outputs": [
    {
     "name": "stdout",
     "output_type": "stream",
     "text": [
      "True\n",
      "268.2789726257324\n",
      "Epoch 1 of 2\n"
     ]
    },
    {
     "name": "stderr",
     "output_type": "stream",
     "text": [
      " 11%|█         | 240/2137 [01:00<06:24,  4.94it/s, loss=2.5661]"
     ]
    }
   ],
   "source": [
    "print(torch.cuda.is_available())\n",
    "\n",
    "tokenizer = MBartTokenizer.from_pretrained(\"facebook/mbart-large-cc25\", src_lang=\"en_XX\")\n",
    "\n",
    "mbart_config = MBartConfig(encoder_layers=6, decoder_layers=6,\n",
    "                           encoder_ffn_dim=128, decoder_ffn_dim=128,\n",
    "                           encoder_attention_heads=4, decoder_attention_heads=4,\n",
    "                           d_model=256, max_length=128, vocab_size=tokenizer.vocab_size)\n",
    "\n",
    "model: MBart = MBart(mbart_config)\n",
    "print(model_size(model))\n",
    "\n",
    "dataset_loaded = load_from_disk(\"europarl_eng_tokenized\")\n",
    "\n",
    "my_ds = OriginalDataset(dataset_loaded, tokenizer, 1e-2)\n",
    "ds_en_loader = DataLoader(my_ds, batch_size=8, drop_last=True, shuffle=True, pin_memory=True, pin_memory_device='cuda',\n",
    "                          num_workers=4)\n",
    "model.fit(ds_en_loader, AdamW(model.parameters()), epochs=2)"
   ],
   "metadata": {
    "collapsed": false,
    "pycharm": {
     "is_executing": true
    }
   }
  }
 ],
 "metadata": {
  "kernelspec": {
   "display_name": "Python 3",
   "language": "python",
   "name": "python3"
  },
  "language_info": {
   "codemirror_mode": {
    "name": "ipython",
    "version": 2
   },
   "file_extension": ".py",
   "mimetype": "text/x-python",
   "name": "python",
   "nbconvert_exporter": "python",
   "pygments_lexer": "ipython2",
   "version": "2.7.6"
  }
 },
 "nbformat": 4,
 "nbformat_minor": 0
}
