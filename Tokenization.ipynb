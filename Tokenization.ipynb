{
 "cells": [
  {
   "cell_type": "code",
   "execution_count": 1,
   "metadata": {
    "collapsed": true
   },
   "outputs": [],
   "source": [
    "from transformers import MBartModel, MBartTokenizer, MBartConfig\n",
    "from transformers import AutoTokenizer\n",
    "import multiprocessing\n",
    "from datasets import concatenate_datasets, load_dataset, load_from_disk, DownloadMode\n",
    "from tqdm import tqdm\n",
    "from torch.utils import data"
   ]
  },
  {
   "cell_type": "code",
   "execution_count": 5,
   "outputs": [
    {
     "name": "stderr",
     "output_type": "stream",
     "text": [
      "Found cached dataset ccmatrix (/data/n.dallanoce/cc_en_es/yhavinga___ccmatrix/en-es/1.0.0/5f733aeea277b2b1bb792442ba120c0f7f4b1c7288897051bdf1e9865fe77b93)\n"
     ]
    }
   ],
   "source": [
    "# yhavinga/ccmatrix\n",
    "dataset = load_dataset(\"yhavinga/ccmatrix\", \"en-es\", split='train', cache_dir=\"/data/n.dallanoce/cc_en_es\", ignore_verifications=True)"
   ],
   "metadata": {
    "collapsed": false
   }
  },
  {
   "cell_type": "code",
   "execution_count": 2,
   "outputs": [],
   "source": [
    "dataset = load_dataset(\"yhavinga/ccmatrix\", \"en-es\", split='train', cache_dir=\"/data/n.dallanoce/cc_en_es\", ignore_verifications=True, streaming=True)"
   ],
   "metadata": {
    "collapsed": false
   }
  },
  {
   "cell_type": "code",
   "execution_count": null,
   "outputs": [],
   "source": [],
   "metadata": {
    "collapsed": false
   }
  }
 ],
 "metadata": {
  "kernelspec": {
   "name": "myenv",
   "language": "python",
   "display_name": "Python (deeptorch)"
  },
  "language_info": {
   "codemirror_mode": {
    "name": "ipython",
    "version": 2
   },
   "file_extension": ".py",
   "mimetype": "text/x-python",
   "name": "python",
   "nbconvert_exporter": "python",
   "pygments_lexer": "ipython2",
   "version": "2.7.6"
  }
 },
 "nbformat": 4,
 "nbformat_minor": 0
}
